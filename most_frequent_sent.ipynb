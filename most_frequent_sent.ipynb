{
 "cells": [
  {
   "cell_type": "code",
   "execution_count": null,
   "metadata": {},
   "outputs": [],
   "source": [
    "! pip install spacy clean-text unidecode"
   ]
  },
  {
   "cell_type": "code",
   "execution_count": null,
   "metadata": {},
   "outputs": [],
   "source": [
    "! python -m spacy download de_core_news_lg"
   ]
  },
  {
   "cell_type": "code",
   "execution_count": 2,
   "metadata": {},
   "outputs": [],
   "source": [
    "from collections import Counter\n",
    "from pathlib import Path\n",
    "\n",
    "import spacy\n",
    "import cleantext"
   ]
  },
  {
   "cell_type": "code",
   "execution_count": 3,
   "metadata": {},
   "outputs": [],
   "source": [
    "nlp = spacy.load('de_core_news_lg')"
   ]
  },
  {
   "cell_type": "code",
   "execution_count": 4,
   "metadata": {},
   "outputs": [],
   "source": [
    "input_txt = Path('nsu.txt').read_text()\n",
    "input_txt = cleantext.clean(input_txt, lang='de', lower=False)"
   ]
  },
  {
   "cell_type": "code",
   "execution_count": 8,
   "metadata": {},
   "outputs": [],
   "source": [
    "nlp.max_length = len(input_txt)\n",
    "doc = nlp(input_txt)\n",
    "sentences = [[t.string for t in sent] for sent in doc.sents]"
   ]
  },
  {
   "cell_type": "code",
   "execution_count": 9,
   "metadata": {},
   "outputs": [
    {
     "data": {
      "text/plain": [
       "13007"
      ]
     },
     "execution_count": 9,
     "metadata": {},
     "output_type": "execute_result"
    }
   ],
   "source": [
    "len(sentences)"
   ]
  },
  {
   "cell_type": "code",
   "execution_count": 10,
   "metadata": {},
   "outputs": [],
   "source": [
    "# only select sentences with over 5 words\n",
    "cleaned_sents = list(filter(lambda x: len(x) > 5, sentences))"
   ]
  },
  {
   "cell_type": "code",
   "execution_count": 11,
   "metadata": {},
   "outputs": [
    {
     "data": {
      "text/plain": [
       "9836"
      ]
     },
     "execution_count": 11,
     "metadata": {},
     "output_type": "execute_result"
    }
   ],
   "source": [
    "len(cleaned_sents)"
   ]
  },
  {
   "cell_type": "code",
   "execution_count": 12,
   "metadata": {},
   "outputs": [],
   "source": [
    "# count sentences\n",
    "first_counter = Counter([''.join(x) for x in cleaned_sents])"
   ]
  },
  {
   "cell_type": "code",
   "execution_count": 14,
   "metadata": {},
   "outputs": [],
   "source": [
    "# count second time but don't consider space / whitespaces\n",
    "input_txt_minimal = cleantext.clean(input_txt, lang='de', no_punct=True, no_line_breaks=True)\n",
    "second_counter = Counter()"
   ]
  },
  {
   "cell_type": "code",
   "execution_count": 15,
   "metadata": {},
   "outputs": [],
   "source": [
    "for x in first_counter.most_common(50):\n",
    "    cleaned_x = cleantext.clean(x[0], lang='de', no_line_breaks=True, no_punct=True)\n",
    "    # only consider proper sentences\n",
    "    if not x[0].strip().endswith('.'):\n",
    "        continue\n",
    "    final_count = input_txt_minimal.count(cleaned_x)\n",
    "    second_counter[x[0].strip()] = final_count"
   ]
  },
  {
   "cell_type": "code",
   "execution_count": 16,
   "metadata": {},
   "outputs": [
    {
     "data": {
      "text/plain": [
       "[('Sie sagte eine sorgfältige Beobachtung der Umgebung ihrer gemeinsamen Wohnung und Zentrale der Vereinigung zu sowie eine schnelle und umsichtige Reaktion auf Vorkommnisse, die den Eindruck des unauffälligen bürgerlichen Lebens der drei Personen in Frage stellen könnten.',\n",
       "  25),\n",
       " ('Die Angeklagte Zschäpe war bei ihren Handlungen in vollem Umfang schuldfähig.',\n",
       "  25),\n",
       " ('In der öffentlichen Wahrnehmung sollte nur die Vereinigung NSU und deren Wirken präsent sein.',\n",
       "  20),\n",
       " ('Die Öffentlichkeit sollte vom Fortbestand einer handlungsfähigen, schlagkräftigen, im Einzelnen nicht greifbaren Vereinigung ausgehen.',\n",
       "  20),\n",
       " ('Keinesfalls wollten sie, dass die Ermittlungsbehörden und damit die Öffentlichkeit Einblicke in die Struktur der Organisation, die Anzahl und die Identität ihrer Mitglieder, deren Leben und Zusammenwirken sowie die Identität ihrer Unterstützer und die Art der Unterstützungshandlungen gewinnen würden.',\n",
       "  20),\n",
       " ('Dadurch gab sie Uwe Böhnhardt und Uwe Mundlos die Sicherheit, ungefährdet in die Zentrale der Vereinigung, ihre gemeinsame Wohnung, zurückkehren zu können.',\n",
       "  20),\n",
       " ('Auf diese Art und Weise ermöglichte sie erst die Durchführung der Tat vor Ort.',\n",
       "  19),\n",
       " ('Sie einigten sich darauf, bei der Tatausführung arbeitsteilig vorzugehen.',\n",
       "  19),\n",
       " ('Dessen waren sich die Angeklagte Zschäpe, Uwe Böhnhardt und Uwe Mundlos bewusst.',\n",
       "  17),\n",
       " ('Außerdem wollten sie mit der Beute die Kosten begleichen, die bei der Planung, Vorbereitung und Ausführung ihrer ideologisch motivierten Taten anfallen würden.',\n",
       "  15),\n",
       " ('Mit einem von ihnen als möglich erkannten Tod von Menschen fanden sie sich dabei als notwendige Folge ab.',\n",
       "  15),\n",
       " ('Da der Angeklagten Zschäpe, Uwe Böhnhardt und Uwe Mundlos zudem bekannt war, dass immer das Risiko des Todes der Ausführenden vor Ort bestehen würde, bezogen sie diesen Aspekt im Hinblick auf die Bedeutung der Bekennung der Vereinigung NSU zu den ideologisch bedingten Tötungsdelikten in ihre Planung ein.',\n",
       "  14),\n",
       " ('Die Angeklagte Zschäpe beabsichtigte den Überfall als Mitglied einer Vereinigung zu begehen, die sich zur fortgesetzten Begehung von Raub- und Erpressungstaten verbunden hatte, wobei sie weiter die Absicht hatte, dass zwei Vereinigungsmitglieder - nämlich Uwe Böhnhardt und Uwe Mundlos - am Überfallobjekt handeln und dabei zumindest eine scharfe Schusswaffe bei sich führen würden.',\n",
       "  14),\n",
       " ('Diese Funktion hatte sie bereits nach dem ersten Überfall im Jahr 1998 übernommen.',\n",
       "  13),\n",
       " ('Es kam ihnen von Anfang an darauf an, das Geld für sich zu behalten oder für sich zu verwenden, wobei sie wussten, dass es ihnen nicht zustand.',\n",
       "  13),\n",
       " ('Dadurch wollte sie ihre eigenen ideologischen Ziele erreichen, nämlich die Einschüchterung der ausländischen Bevölkerung in Deutschland sowie der Mitbürger mit Migrationshintergrund und die Vorführung staatlicher Stellen als unfähig zur Verhinderung und Aufklärung der Tat.',\n",
       "  11),\n",
       " ('Sie waren sich darüber im Klaren, dass die zu erwartende Beute aus dem geplanten Überfall die Planung und Durchführung der weiteren von ihnen beabsichtigten ideologisch motivierten Anschläge finanziell und praktisch weiter ermöglichen würde und zudem für eine bestimmte weitere Zeit ihren Lebensunterhalt sichern würde.',\n",
       "  11),\n",
       " ('Die Angeklagte Zschäpe gab durch ihre Zusagen einerseits den beiden Männern die Sicherheit, ungefährdet in die Wohnung zurückkehren zu können, und andererseits gewährleistete sie, dass auch im Falle ihres Todes der von ihr, Uwe Böhnhardt und Uwe Mundlos gemeinsam erstrebte ideologische Zweck der von ihnen begangenen Tötungsserie durch die von ihr zugesagte Vernichtung der vorhandenen Beweismittel und die Veröffentlichung des Bekennervideos erreicht werden würde.',\n",
       "  11),\n",
       " ('Dessen waren sich die Angeklagte Zschäpe, Uwe Mundlos und Uwe Böhnhardt bewusst.',\n",
       "  10),\n",
       " ('Dabei wussten sie, dass sie keinen Anspruch auf die Beute hatten.', 10),\n",
       " ('Die Mitwirkung der Angeklagten Zschäpe bei der Vorbereitung, Planung und Durchführung des Überfalls stellte, entsprechend dem Konzept der Vereinigung und der Absicht ihrer drei Mitglieder, die Beschaffung weiterer von der Vereinigung benötigter Finanzmittel sicher und schuf damit die erforderliche Grundlage für die Durchführung weiterer ideologisch motivierter Anschläge der Vereinigung.',\n",
       "  10),\n",
       " (\"Nach ihrem gemeinsamen Plan hatten Uwe Mundlos und Uwe Böhnhardt dabei die Aufgabe, in der Sparkassenfiliale vor Ort tätig zu werden, während die Angeklagte Zschäpe zusagte, die Abwesenheitszeiten Uwe Böhnhardts und Uwe Mundlos' im Zusammenhang mit der Tatausführung zu legendieren, deren Abwesenheit durch ihre eigene Präsenz im Bereich der Wohnung zu tarnen und aktiv bei Nachfragen, jeweils der Situation angepasst, eine unverfängliche Erklärung für deren Abwesenheit zu finden und abzugeben.\",\n",
       "  9),\n",
       " ('Sie handelten in der dargestellten Weise, um sich und der Angeklagten Zschäpe das Bargeld zuzueignen.',\n",
       "  9),\n",
       " ('Da sie weiter keiner regelmäßigen Erwerbstätigkeit würden nachgehen müssen, würde ihnen ausreichend Zeit zur Verfügung stehen, um die von ihnen beabsichtigten ideologisch motivierten Taten ihres Personenverbandes intensiv planen, vorbereiten und ausführen zu können.',\n",
       "  8),\n",
       " ('Der Angeklagten Zschäpe war dabei bewusst, dass das Opfer keinerlei Anlass zu der Tat gegeben hatte.',\n",
       "  7),\n",
       " ('Die Angeklagte Zschäpe handelte in der dargestellten Weise, um den Tod eines Menschen herbeizuführen, der zu einer Gruppe ihrer ideologischen Feindbilder zählte.',\n",
       "  7),\n",
       " ('Um dies zu gewährleisten, beschlossen sie, dass sich die Angeklagte Zschäpe während der gesamten Tatausführung und der sich daran anschließenden Flucht der beiden Männer vom Tatort in oder in der Nähe der Zentrale der Vereinigung, ihrer gemeinsamen Wohnung in der Polenzstraße 2 in Zwickau, auch deshalb bereithalten sollte, um für den Fall, dass die Männer im Zusammenhang mit der Tat den Tod finden würden, das vorbereitete Bekennervideo der Vereinigung NSU zu den bereits begangenen ideologisch motivierten Tötungsdelikten zu veröffentlichen und sämtliche in der Zentrale der Vereinigung vorhandenen Beweismittel hinsichtlich der Identität der Mitglieder der Vereinigung NSU, hinsichtlich deren bisherigen Lebens im Untergrund und hinsichtlich von Unterstützungshandlungen zu ihren Gunsten durch andere Personen zu vernichten.',\n",
       "  7),\n",
       " ('Sie handelte weiter in der Absicht, das von Uwe Böhnhardt und Uwe Mundlos weggenommene Geld sich und den beiden Männern zuzueignen, wobei sie, wie sie wusste, keinen Anspruch auf dieses Geld hatten.',\n",
       "  6),\n",
       " ('Sie sagte zu, den beiden Männern eine sichere Rückzugsmöglichkeit in die Zentrale der Vereinigung, also in ihre gemeinsame Wohnung, zu schaffen.',\n",
       "  6),\n",
       " ('Sie sagte zu, den beiden Männern eine sichere Rückzugsmöglichkeit in die Zentrale der Vereinigung, also in ihre gemeinsame Wohnung in der Polenzstraße 2 in Zwickau, zu schaffen.',\n",
       "  6)]"
      ]
     },
     "execution_count": 16,
     "metadata": {},
     "output_type": "execute_result"
    }
   ],
   "source": [
    "second_counter.most_common(30)"
   ]
  },
  {
   "cell_type": "code",
   "execution_count": 34,
   "metadata": {},
   "outputs": [
    {
     "name": "stdout",
     "output_type": "stream",
     "text": [
      "0 25 Sie sagte eine sorgfältige Beobachtung der Umgebung ihrer gemeinsamen Wohnung und Zentrale der Vereinigung zu sowie eine schnelle und umsichtige Reaktion auf Vorkommnisse, die den Eindruck des unauffälligen bürgerlichen Lebens der drei Personen in Frage stellen könnten.\n",
      "0 25 Die Angeklagte Zschäpe war bei ihren Handlungen in vollem Umfang schuldfähig.\n",
      "2 20 In der öffentlichen Wahrnehmung sollte nur die Vereinigung NSU und deren Wirken präsent sein.\n",
      "2 20 Die Öffentlichkeit sollte vom Fortbestand einer handlungsfähigen, schlagkräftigen, im Einzelnen nicht greifbaren Vereinigung ausgehen.\n",
      "2 20 Keinesfalls wollten sie, dass die Ermittlungsbehörden und damit die Öffentlichkeit Einblicke in die Struktur der Organisation, die Anzahl und die Identität ihrer Mitglieder, deren Leben und Zusammenwirken sowie die Identität ihrer Unterstützer und die Art der Unterstützungshandlungen gewinnen würden.\n",
      "2 20 Dadurch gab sie Uwe Böhnhardt und Uwe Mundlos die Sicherheit, ungefährdet in die Zentrale der Vereinigung, ihre gemeinsame Wohnung, zurückkehren zu können.\n",
      "6 19 Auf diese Art und Weise ermöglichte sie erst die Durchführung der Tat vor Ort.\n",
      "6 19 Sie einigten sich darauf, bei der Tatausführung arbeitsteilig vorzugehen.\n",
      "8 17 Dessen waren sich die Angeklagte Zschäpe, Uwe Böhnhardt und Uwe Mundlos bewusst.\n",
      "9 15 Außerdem wollten sie mit der Beute die Kosten begleichen, die bei der Planung, Vorbereitung und Ausführung ihrer ideologisch motivierten Taten anfallen würden.\n",
      "9 15 Mit einem von ihnen als möglich erkannten Tod von Menschen fanden sie sich dabei als notwendige Folge ab.\n",
      "11 14 Da der Angeklagten Zschäpe, Uwe Böhnhardt und Uwe Mundlos zudem bekannt war, dass immer das Risiko des Todes der Ausführenden vor Ort bestehen würde, bezogen sie diesen Aspekt im Hinblick auf die Bedeutung der Bekennung der Vereinigung NSU zu den ideologisch bedingten Tötungsdelikten in ihre Planung ein.\n",
      "11 14 Die Angeklagte Zschäpe beabsichtigte den Überfall als Mitglied einer Vereinigung zu begehen, die sich zur fortgesetzten Begehung von Raub- und Erpressungstaten verbunden hatte, wobei sie weiter die Absicht hatte, dass zwei Vereinigungsmitglieder - nämlich Uwe Böhnhardt und Uwe Mundlos - am Überfallobjekt handeln und dabei zumindest eine scharfe Schusswaffe bei sich führen würden.\n",
      "13 13 Diese Funktion hatte sie bereits nach dem ersten Überfall im Jahr 1998 übernommen.\n",
      "13 13 Es kam ihnen von Anfang an darauf an, das Geld für sich zu behalten oder für sich zu verwenden, wobei sie wussten, dass es ihnen nicht zustand.\n",
      "15 11 Dadurch wollte sie ihre eigenen ideologischen Ziele erreichen, nämlich die Einschüchterung der ausländischen Bevölkerung in Deutschland sowie der Mitbürger mit Migrationshintergrund und die Vorführung staatlicher Stellen als unfähig zur Verhinderung und Aufklärung der Tat.\n",
      "15 11 Sie waren sich darüber im Klaren, dass die zu erwartende Beute aus dem geplanten Überfall die Planung und Durchführung der weiteren von ihnen beabsichtigten ideologisch motivierten Anschläge finanziell und praktisch weiter ermöglichen würde und zudem für eine bestimmte weitere Zeit ihren Lebensunterhalt sichern würde.\n",
      "15 11 Die Angeklagte Zschäpe gab durch ihre Zusagen einerseits den beiden Männern die Sicherheit, ungefährdet in die Wohnung zurückkehren zu können, und andererseits gewährleistete sie, dass auch im Falle ihres Todes der von ihr, Uwe Böhnhardt und Uwe Mundlos gemeinsam erstrebte ideologische Zweck der von ihnen begangenen Tötungsserie durch die von ihr zugesagte Vernichtung der vorhandenen Beweismittel und die Veröffentlichung des Bekennervideos erreicht werden würde.\n",
      "18 10 Dessen waren sich die Angeklagte Zschäpe, Uwe Mundlos und Uwe Böhnhardt bewusst.\n",
      "18 10 Dabei wussten sie, dass sie keinen Anspruch auf die Beute hatten.\n",
      "18 10 Die Mitwirkung der Angeklagten Zschäpe bei der Vorbereitung, Planung und Durchführung des Überfalls stellte, entsprechend dem Konzept der Vereinigung und der Absicht ihrer drei Mitglieder, die Beschaffung weiterer von der Vereinigung benötigter Finanzmittel sicher und schuf damit die erforderliche Grundlage für die Durchführung weiterer ideologisch motivierter Anschläge der Vereinigung.\n",
      "21 9 Nach ihrem gemeinsamen Plan hatten Uwe Mundlos und Uwe Böhnhardt dabei die Aufgabe, in der Sparkassenfiliale vor Ort tätig zu werden, während die Angeklagte Zschäpe zusagte, die Abwesenheitszeiten Uwe Böhnhardts und Uwe Mundlos' im Zusammenhang mit der Tatausführung zu legendieren, deren Abwesenheit durch ihre eigene Präsenz im Bereich der Wohnung zu tarnen und aktiv bei Nachfragen, jeweils der Situation angepasst, eine unverfängliche Erklärung für deren Abwesenheit zu finden und abzugeben.\n",
      "21 9 Sie handelten in der dargestellten Weise, um sich und der Angeklagten Zschäpe das Bargeld zuzueignen.\n",
      "23 8 Da sie weiter keiner regelmäßigen Erwerbstätigkeit würden nachgehen müssen, würde ihnen ausreichend Zeit zur Verfügung stehen, um die von ihnen beabsichtigten ideologisch motivierten Taten ihres Personenverbandes intensiv planen, vorbereiten und ausführen zu können.\n",
      "24 7 Der Angeklagten Zschäpe war dabei bewusst, dass das Opfer keinerlei Anlass zu der Tat gegeben hatte.\n",
      "24 7 Die Angeklagte Zschäpe handelte in der dargestellten Weise, um den Tod eines Menschen herbeizuführen, der zu einer Gruppe ihrer ideologischen Feindbilder zählte.\n",
      "24 7 Um dies zu gewährleisten, beschlossen sie, dass sich die Angeklagte Zschäpe während der gesamten Tatausführung und der sich daran anschließenden Flucht der beiden Männer vom Tatort in oder in der Nähe der Zentrale der Vereinigung, ihrer gemeinsamen Wohnung in der Polenzstraße 2 in Zwickau, auch deshalb bereithalten sollte, um für den Fall, dass die Männer im Zusammenhang mit der Tat den Tod finden würden, das vorbereitete Bekennervideo der Vereinigung NSU zu den bereits begangenen ideologisch motivierten Tötungsdelikten zu veröffentlichen und sämtliche in der Zentrale der Vereinigung vorhandenen Beweismittel hinsichtlich der Identität der Mitglieder der Vereinigung NSU, hinsichtlich deren bisherigen Lebens im Untergrund und hinsichtlich von Unterstützungshandlungen zu ihren Gunsten durch andere Personen zu vernichten.\n",
      "27 6 Sie handelte weiter in der Absicht, das von Uwe Böhnhardt und Uwe Mundlos weggenommene Geld sich und den beiden Männern zuzueignen, wobei sie, wie sie wusste, keinen Anspruch auf dieses Geld hatten.\n",
      "27 6 Sie sagte zu, den beiden Männern eine sichere Rückzugsmöglichkeit in die Zentrale der Vereinigung, also in ihre gemeinsame Wohnung, zu schaffen.\n",
      "27 6 Sie sagte zu, den beiden Männern eine sichere Rückzugsmöglichkeit in die Zentrale der Vereinigung, also in ihre gemeinsame Wohnung in der Polenzstraße 2 in Zwickau, zu schaffen.\n"
     ]
    }
   ],
   "source": [
    "md_output = \"\"\"| Rank | Anzahl | Satz |\n",
    "| --- | --- | :--- |\n",
    "\"\"\"\n",
    "prev_n = None\n",
    "rank = None\n",
    "for rank, (value, n) in enumerate(second_counter.most_common(30)):\n",
    "    if prev_n and prev_n == n:\n",
    "        rank = prev_rank\n",
    "    prev_rank = rank\n",
    "    prev_n = n\n",
    "    print(rank, n, value)\n",
    "    md_output += f\"| {rank + 1}. | {n} | {value} |\\n\""
   ]
  },
  {
   "cell_type": "code",
   "execution_count": 35,
   "metadata": {},
   "outputs": [
    {
     "data": {
      "text/plain": [
       "7008"
      ]
     },
     "execution_count": 35,
     "metadata": {},
     "output_type": "execute_result"
    }
   ],
   "source": [
    "Path('table.md').write_text(md_output)"
   ]
  },
  {
   "cell_type": "code",
   "execution_count": null,
   "metadata": {},
   "outputs": [],
   "source": []
  }
 ],
 "metadata": {
  "kernelspec": {
   "display_name": "Python 3",
   "language": "python",
   "name": "python3"
  },
  "language_info": {
   "codemirror_mode": {
    "name": "ipython",
    "version": 3
   },
   "file_extension": ".py",
   "mimetype": "text/x-python",
   "name": "python",
   "nbconvert_exporter": "python",
   "pygments_lexer": "ipython3",
   "version": "3.6.10"
  }
 },
 "nbformat": 4,
 "nbformat_minor": 4
}
